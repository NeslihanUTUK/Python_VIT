{
 "cells": [
  {
   "cell_type": "markdown",
   "id": "38d119af",
   "metadata": {},
   "source": [
    "### Dictionary(dict) olusturma  "
   ]
  },
  {
   "cell_type": "code",
   "execution_count": 1,
   "id": "f2ce9564",
   "metadata": {},
   "outputs": [
    {
     "data": {
      "text/plain": [
       "{}"
      ]
     },
     "execution_count": 1,
     "metadata": {},
     "output_type": "execute_result"
    }
   ],
   "source": [
    "s={}\n",
    "s"
   ]
  },
  {
   "cell_type": "code",
   "execution_count": 2,
   "id": "a2bff42a",
   "metadata": {},
   "outputs": [
    {
     "data": {
      "text/plain": [
       "dict"
      ]
     },
     "execution_count": 2,
     "metadata": {},
     "output_type": "execute_result"
    }
   ],
   "source": [
    "type(s)"
   ]
  },
  {
   "cell_type": "code",
   "execution_count": 3,
   "id": "acb41732",
   "metadata": {},
   "outputs": [
    {
     "data": {
      "text/plain": [
       "{'key': 'value'}"
      ]
     },
     "execution_count": 3,
     "metadata": {},
     "output_type": "execute_result"
    }
   ],
   "source": [
    "my_dict= dict(key = 'value') #constructor/uretec\n",
    "my_dict\n"
   ]
  },
  {
   "cell_type": "code",
   "execution_count": 7,
   "id": "4102c0ca",
   "metadata": {},
   "outputs": [
    {
     "name": "stdout",
     "output_type": "stream",
     "text": [
      "name,age,country\n"
     ]
    }
   ],
   "source": [
    "thisdict = dict(name = \"John\", age = 36, country = \"Norway\")\n",
    "# print(thisdict)\n",
    "print(*thisdict, sep=\",\")"
   ]
  },
  {
   "cell_type": "code",
   "execution_count": null,
   "id": "d9fdb25f",
   "metadata": {},
   "outputs": [],
   "source": [
    "print(*thisdict, sep=\",\")"
   ]
  },
  {
   "cell_type": "code",
   "execution_count": 8,
   "id": "8ef1d3c9",
   "metadata": {},
   "outputs": [
    {
     "ename": "SyntaxError",
     "evalue": "expression cannot contain assignment, perhaps you meant \"==\"? (3006922553.py, line 2)",
     "output_type": "error",
     "traceback": [
      "\u001b[1;36m  Cell \u001b[1;32mIn[8], line 2\u001b[1;36m\u001b[0m\n\u001b[1;33m    dict(3=\"25\")\u001b[0m\n\u001b[1;37m         ^\u001b[0m\n\u001b[1;31mSyntaxError\u001b[0m\u001b[1;31m:\u001b[0m expression cannot contain assignment, perhaps you meant \"==\"?\n"
     ]
    }
   ],
   "source": [
    "# Asagidaki ifade ile bir dict olusturabilir miyiz?\n",
    "dict(3=\"25\")"
   ]
  },
  {
   "cell_type": "code",
   "execution_count": null,
   "id": "6939d06c",
   "metadata": {},
   "outputs": [],
   "source": [
    "d={3:\"elma\"}\n",
    "d"
   ]
  },
  {
   "cell_type": "code",
   "execution_count": 9,
   "id": "9ee4c13b",
   "metadata": {},
   "outputs": [
    {
     "data": {
      "text/plain": [
       "{'ankara': 'resim'}"
      ]
     },
     "execution_count": 9,
     "metadata": {},
     "output_type": "execute_result"
    }
   ],
   "source": [
    "#asagidaki ifade ile bir dict olusturabilir miyiz?\n",
    "dict(ankara='resim')"
   ]
  },
  {
   "cell_type": "code",
   "execution_count": null,
   "id": "7ae7065d",
   "metadata": {},
   "outputs": [],
   "source": []
  },
  {
   "cell_type": "code",
   "execution_count": 10,
   "id": "6c27a9e5",
   "metadata": {},
   "outputs": [
    {
     "data": {
      "text/plain": [
       "{'x': 5, 'y': False}"
      ]
     },
     "execution_count": 10,
     "metadata": {},
     "output_type": "execute_result"
    }
   ],
   "source": [
    "numbers = dict(x=5, y=False)\n",
    "numbers"
   ]
  },
  {
   "cell_type": "code",
   "execution_count": 11,
   "id": "37bad9e1",
   "metadata": {},
   "outputs": [
    {
     "data": {
      "text/plain": [
       "{'x': 'y', 5: None}"
      ]
     },
     "execution_count": 11,
     "metadata": {},
     "output_type": "execute_result"
    }
   ],
   "source": [
    "numbers1 = dict([('x','y'), (5, None)])\n",
    "numbers1"
   ]
  },
  {
   "cell_type": "code",
   "execution_count": 12,
   "id": "cf3f0da9",
   "metadata": {},
   "outputs": [
    {
     "data": {
      "text/plain": [
       "{'x': 5,\n",
       " 'y': -5,\n",
       " 'z': 7,\n",
       " 't': [1, 2, 3, 4],\n",
       " 'k': (1, 2, 'Yesil'),\n",
       " 'l': 'Menekse',\n",
       " 'm': 'Mavi Bulut',\n",
       " 'n': {'a': 'A'}}"
      ]
     },
     "execution_count": 12,
     "metadata": {},
     "output_type": "execute_result"
    }
   ],
   "source": [
    "numbers2 = dict([('x', 5), ('y', -5)], z=7, t=[1,2,3,4],k=(1,2,\"Yesil\"),l=\"Menekse\",m=\"Mavi Bulut\",n={\"a\": \"A\"})\n",
    "numbers2"
   ]
  },
  {
   "cell_type": "code",
   "execution_count": 13,
   "id": "ab6356f2",
   "metadata": {},
   "outputs": [
    {
     "data": {
      "text/plain": [
       "{(1, 2, 'Yesil'): (1, 2, 'Yesil')}"
      ]
     },
     "execution_count": 13,
     "metadata": {},
     "output_type": "execute_result"
    }
   ],
   "source": [
    "#Tuple yapisini dict icerisine eklemek istersek dict() uretecini kullanmamaliyiz.\n",
    "{(1,2,\"Yesil\"):(1,2,\"Yesil\")}"
   ]
  },
  {
   "cell_type": "code",
   "execution_count": 14,
   "id": "51b51c66",
   "metadata": {},
   "outputs": [
    {
     "ename": "SyntaxError",
     "evalue": "expression cannot contain assignment, perhaps you meant \"==\"? (414627761.py, line 1)",
     "output_type": "error",
     "traceback": [
      "\u001b[1;36m  Cell \u001b[1;32mIn[14], line 1\u001b[1;36m\u001b[0m\n\u001b[1;33m    dict((1,2,\"Yesil\")=(1,2,\"Yesil\"))\u001b[0m\n\u001b[1;37m         ^\u001b[0m\n\u001b[1;31mSyntaxError\u001b[0m\u001b[1;31m:\u001b[0m expression cannot contain assignment, perhaps you meant \"==\"?\n"
     ]
    }
   ],
   "source": [
    "dict((1,2,\"Yesil\")=(1,2,\"Yesil\"))"
   ]
  },
  {
   "cell_type": "markdown",
   "id": "fd490201",
   "metadata": {},
   "source": [
    "### Dict icindeki verilere erisme"
   ]
  },
  {
   "cell_type": "code",
   "execution_count": 15,
   "id": "6e7d2864",
   "metadata": {},
   "outputs": [],
   "source": [
    "mydict={'x': 5,\n",
    " 'y': -5,\n",
    " 'z': 8,\n",
    " 't': [1, 2, 3, 4],\n",
    " 'k': (1, 2, 'Yesil'),\n",
    " 'l': 'Menekse',\n",
    " 'm':False,\n",
    "  2:\"lale\"}\n"
   ]
  },
  {
   "cell_type": "code",
   "execution_count": null,
   "id": "58a099b3",
   "metadata": {},
   "outputs": [],
   "source": [
    "# Istenilen key'e karsilik gelen value yu bulmak icin:\n",
    "\n"
   ]
  },
  {
   "cell_type": "code",
   "execution_count": 16,
   "id": "b648e656",
   "metadata": {},
   "outputs": [
    {
     "data": {
      "text/plain": [
       "'lale'"
      ]
     },
     "execution_count": 16,
     "metadata": {},
     "output_type": "execute_result"
    }
   ],
   "source": [
    "mydict[2]"
   ]
  },
  {
   "cell_type": "code",
   "execution_count": 17,
   "id": "63cb126b",
   "metadata": {},
   "outputs": [
    {
     "ename": "KeyError",
     "evalue": "3",
     "output_type": "error",
     "traceback": [
      "\u001b[1;31m---------------------------------------------------------------------------\u001b[0m",
      "\u001b[1;31mKeyError\u001b[0m                                  Traceback (most recent call last)",
      "Cell \u001b[1;32mIn[17], line 1\u001b[0m\n\u001b[1;32m----> 1\u001b[0m \u001b[43mmydict\u001b[49m\u001b[43m[\u001b[49m\u001b[38;5;241;43m3\u001b[39;49m\u001b[43m]\u001b[49m\n",
      "\u001b[1;31mKeyError\u001b[0m: 3"
     ]
    }
   ],
   "source": [
    "mydict[3]"
   ]
  },
  {
   "cell_type": "code",
   "execution_count": 18,
   "id": "5b7f8399",
   "metadata": {},
   "outputs": [
    {
     "name": "stdout",
     "output_type": "stream",
     "text": [
      "x\n",
      "y\n",
      "z\n",
      "t\n",
      "k\n",
      "l\n",
      "m\n",
      "2\n"
     ]
    }
   ],
   "source": [
    "# Asagidaki sekilde dict elemanlarini(ikililerini) yazdirabilir miyiz?\n",
    "for i in mydict:\n",
    "    print(i)"
   ]
  },
  {
   "cell_type": "code",
   "execution_count": 19,
   "id": "612fd7de",
   "metadata": {},
   "outputs": [
    {
     "name": "stdout",
     "output_type": "stream",
     "text": [
      "x = 5\n",
      "y = -5\n",
      "z = 8\n",
      "t = [1, 2, 3, 4]\n",
      "k = (1, 2, 'Yesil')\n",
      "l = Menekse\n",
      "m = False\n",
      "2 = lale\n"
     ]
    }
   ],
   "source": [
    "# dict icindek key ve valularin hepsini yazdirmak icin\n",
    "for i,j in mydict.items():\n",
    "    print(i,\"=\",j)"
   ]
  },
  {
   "cell_type": "code",
   "execution_count": 20,
   "id": "436819e2",
   "metadata": {},
   "outputs": [
    {
     "name": "stdout",
     "output_type": "stream",
     "text": [
      "x\n",
      "y\n",
      "z\n",
      "t\n",
      "k\n",
      "l\n",
      "m\n",
      "2\n"
     ]
    }
   ],
   "source": [
    "# dict icindeki tum key degerlerini yazdirmak icin:\n",
    "for i in mydict.keys():\n",
    "    print(i)"
   ]
  },
  {
   "cell_type": "code",
   "execution_count": 23,
   "id": "49774252",
   "metadata": {},
   "outputs": [
    {
     "data": {
      "text/plain": [
       "dict_values(['value'])"
      ]
     },
     "execution_count": 23,
     "metadata": {},
     "output_type": "execute_result"
    }
   ],
   "source": [
    "a=my_dict.values()\n",
    "# type(a)\n",
    "a"
   ]
  },
  {
   "cell_type": "code",
   "execution_count": 21,
   "id": "949d24c4",
   "metadata": {},
   "outputs": [
    {
     "name": "stdout",
     "output_type": "stream",
     "text": [
      "5\n",
      "-5\n",
      "8\n",
      "[1, 2, 3, 4]\n",
      "(1, 2, 'Yesil')\n",
      "Menekse\n",
      "False\n",
      "lale\n"
     ]
    }
   ],
   "source": [
    "# dict icindeki tum value degerlerini yazdirmak icin:\n",
    "for i in mydict.values():\n",
    "    print(i)"
   ]
  },
  {
   "cell_type": "markdown",
   "id": "933a5462",
   "metadata": {},
   "source": [
    "### Dict icinde istedigim degerler var mi diye kontrol etme"
   ]
  },
  {
   "cell_type": "code",
   "execution_count": 24,
   "id": "ac57ca3e",
   "metadata": {},
   "outputs": [
    {
     "data": {
      "text/plain": [
       "True"
      ]
     },
     "execution_count": 24,
     "metadata": {},
     "output_type": "execute_result"
    }
   ],
   "source": [
    "\"lale\" in mydict.values()\n"
   ]
  },
  {
   "cell_type": "code",
   "execution_count": 25,
   "id": "bd683bcc",
   "metadata": {},
   "outputs": [
    {
     "data": {
      "text/plain": [
       "False"
      ]
     },
     "execution_count": 25,
     "metadata": {},
     "output_type": "execute_result"
    }
   ],
   "source": [
    "2 in mydict.values()"
   ]
  },
  {
   "cell_type": "code",
   "execution_count": 26,
   "id": "d9582eed",
   "metadata": {},
   "outputs": [
    {
     "data": {
      "text/plain": [
       "False"
      ]
     },
     "execution_count": 26,
     "metadata": {},
     "output_type": "execute_result"
    }
   ],
   "source": [
    "(2,\"Ali\") in mydict.items()"
   ]
  },
  {
   "cell_type": "markdown",
   "id": "9ea5b545",
   "metadata": {},
   "source": [
    "### sozluge eleman ekleme"
   ]
  },
  {
   "cell_type": "code",
   "execution_count": 33,
   "id": "c52a32fa",
   "metadata": {},
   "outputs": [],
   "source": [
    "mydict={'x': 5,\n",
    " 'y': -5,\n",
    " 'z': 8,\n",
    " 't': [1, 2, 3, 4],\n",
    " 'k': (1, 2, 'Yesil'),\n",
    " 'l': 'Menekse',\n",
    " 'm':False,\n",
    "  2:\"lale\"}"
   ]
  },
  {
   "cell_type": "code",
   "execution_count": 27,
   "id": "973e8707",
   "metadata": {},
   "outputs": [
    {
     "data": {
      "text/plain": [
       "{'x': 5,\n",
       " 'y': -5,\n",
       " 'z': 8,\n",
       " 't': [1, 2, 3, 4],\n",
       " 'k': (1, 2, 'Yesil'),\n",
       " 'l': 'Menekse',\n",
       " 'm': False,\n",
       " 2: 'lale',\n",
       " 5: {'bes', 'sekiz'}}"
      ]
     },
     "execution_count": 27,
     "metadata": {},
     "output_type": "execute_result"
    }
   ],
   "source": [
    "#mydict icine key=2 ye karsilik  {'bes',\"sekiz\"} setini value olarak ekleyelim\n",
    "mydict[5]={'bes','sekiz'}\n",
    "mydict"
   ]
  },
  {
   "cell_type": "code",
   "execution_count": 28,
   "id": "f640da27",
   "metadata": {},
   "outputs": [
    {
     "data": {
      "text/plain": [
       "{'x': 5,\n",
       " 'y': -5,\n",
       " 'z': 8,\n",
       " 't': [1, 2, 3, 4],\n",
       " 'k': (1, 2, 'Yesil'),\n",
       " 'l': 'Menekse',\n",
       " 'm': False,\n",
       " 2: 'lale',\n",
       " 5: {'bes', 'mavi', 'sekiz'}}"
      ]
     },
     "execution_count": 28,
     "metadata": {},
     "output_type": "execute_result"
    }
   ],
   "source": [
    "mydict[5]={'bes','sekiz','mavi'}\n",
    "mydict"
   ]
  },
  {
   "cell_type": "code",
   "execution_count": 29,
   "id": "14f65743",
   "metadata": {},
   "outputs": [
    {
     "data": {
      "text/plain": [
       "{'x': 5,\n",
       " 'y': -5,\n",
       " 'z': 8,\n",
       " 't': [1, 2, 3, 4],\n",
       " 'k': (1, 2, 'Yesil'),\n",
       " 'l': 'Menekse',\n",
       " 'm': False,\n",
       " 2: 'lale',\n",
       " 5: {'bes', 'mavi', 'sekiz'},\n",
       " 'kisi': {'ad': 'melek', 'soyad': 'Kaya'}}"
      ]
     },
     "execution_count": 29,
     "metadata": {},
     "output_type": "execute_result"
    }
   ],
   "source": [
    "#my dict icine \"kisi\" keyine karsilik {\"ad\":\"melek\",\"soyad\":\"Kaya\"} dict sini  value olarak ekleyelim.\n",
    "mydict['kisi']= {\"ad\":\"melek\",\"soyad\":\"Kaya\"}\n",
    "mydict"
   ]
  },
  {
   "cell_type": "code",
   "execution_count": 30,
   "id": "e446bf73",
   "metadata": {},
   "outputs": [
    {
     "data": {
      "text/plain": [
       "{'x': 5,\n",
       " 'y': [1, 2, 3, 4],\n",
       " 'z': 8,\n",
       " 't': [1, 2, 3, 4],\n",
       " 'k': (1, 2, 'Yesil'),\n",
       " 'l': 'Menekse',\n",
       " 'm': False,\n",
       " 2: 'lale',\n",
       " 5: {'bes', 'mavi', 'sekiz'},\n",
       " 'kisi': {'ad': 'melek', 'soyad': 'Kaya'}}"
      ]
     },
     "execution_count": 30,
     "metadata": {},
     "output_type": "execute_result"
    }
   ],
   "source": [
    "mydict['y']=[1,2,3,4]\n",
    "mydict"
   ]
  },
  {
   "cell_type": "code",
   "execution_count": 31,
   "id": "e42ca9fa",
   "metadata": {},
   "outputs": [
    {
     "ename": "TypeError",
     "evalue": "unhashable type: 'list'",
     "output_type": "error",
     "traceback": [
      "\u001b[1;31m---------------------------------------------------------------------------\u001b[0m",
      "\u001b[1;31mTypeError\u001b[0m                                 Traceback (most recent call last)",
      "Cell \u001b[1;32mIn[31], line 2\u001b[0m\n\u001b[0;32m      1\u001b[0m \u001b[38;5;66;03m# Asagidaki gibi key yerine list kullanilarak sozluk olusturulabilir  mi?\u001b[39;00m\n\u001b[1;32m----> 2\u001b[0m {[\u001b[38;5;241m1\u001b[39m,\u001b[38;5;241m2\u001b[39m]:\u001b[38;5;124m\"\u001b[39m\u001b[38;5;124mmelek\u001b[39m\u001b[38;5;124m\"\u001b[39m}\n",
      "\u001b[1;31mTypeError\u001b[0m: unhashable type: 'list'"
     ]
    }
   ],
   "source": [
    "# Asagidaki gibi key yerine list kullanilarak sozluk olusturulabilir  mi?\n",
    "{[1,2]:\"melek\"}"
   ]
  },
  {
   "cell_type": "markdown",
   "id": "e345ee41",
   "metadata": {},
   "source": [
    "## Sozluk metodlari"
   ]
  },
  {
   "cell_type": "markdown",
   "id": "f1059670",
   "metadata": {},
   "source": [
    "###### clear()"
   ]
  },
  {
   "cell_type": "code",
   "execution_count": null,
   "id": "90f57111",
   "metadata": {},
   "outputs": [],
   "source": [
    "\n",
    "# mydict.clear()"
   ]
  },
  {
   "cell_type": "markdown",
   "id": "21f45bfd",
   "metadata": {},
   "source": [
    "###### copy()"
   ]
  },
  {
   "cell_type": "code",
   "execution_count": 32,
   "id": "476c4a3c",
   "metadata": {},
   "outputs": [],
   "source": [
    "mydict2=mydict.copy()"
   ]
  },
  {
   "cell_type": "code",
   "execution_count": 33,
   "id": "420acf9f",
   "metadata": {},
   "outputs": [
    {
     "data": {
      "text/plain": [
       "False"
      ]
     },
     "execution_count": 33,
     "metadata": {},
     "output_type": "execute_result"
    }
   ],
   "source": [
    "mydict2 is mydict"
   ]
  },
  {
   "cell_type": "markdown",
   "id": "c3563419",
   "metadata": {},
   "source": [
    "###### fromkeys()"
   ]
  },
  {
   "cell_type": "code",
   "execution_count": 34,
   "id": "1b02ea66",
   "metadata": {},
   "outputs": [
    {
     "data": {
      "text/plain": [
       "{'a': 'b'}"
      ]
     },
     "execution_count": 34,
     "metadata": {},
     "output_type": "execute_result"
    }
   ],
   "source": [
    "# {}.fromkeys()\n",
    "{}.fromkeys(\"a\",\"b\")               # {'a': 'b’}"
   ]
  },
  {
   "cell_type": "code",
   "execution_count": 35,
   "id": "efdaf104",
   "metadata": {},
   "outputs": [
    {
     "data": {
      "text/plain": [
       "{'email': 'unknown'}"
      ]
     },
     "execution_count": 35,
     "metadata": {},
     "output_type": "execute_result"
    }
   ],
   "source": [
    "{}.fromkeys([\"email\"], 'unknown')\n",
    " # {'email': 'unknown’}"
   ]
  },
  {
   "cell_type": "code",
   "execution_count": 36,
   "id": "fa5240bb",
   "metadata": {},
   "outputs": [
    {
     "data": {
      "text/plain": [
       "{'a': [1, 2, 3, 4, 5]}"
      ]
     },
     "execution_count": 36,
     "metadata": {},
     "output_type": "execute_result"
    }
   ],
   "source": [
    "{}.fromkeys(\"a\",[1,2,3,4,5])      "
   ]
  },
  {
   "cell_type": "code",
   "execution_count": 37,
   "id": "a24b326c",
   "metadata": {},
   "outputs": [
    {
     "data": {
      "text/plain": [
       "{'a': None}"
      ]
     },
     "execution_count": 37,
     "metadata": {},
     "output_type": "execute_result"
    }
   ],
   "source": [
    "{}.fromkeys(\"a\") "
   ]
  },
  {
   "cell_type": "code",
   "execution_count": 38,
   "id": "497c6dd4",
   "metadata": {},
   "outputs": [
    {
     "data": {
      "text/plain": [
       "{'a': [1, 2, 3, 4, 5], 'b': [1, 2, 3, 4, 5]}"
      ]
     },
     "execution_count": 38,
     "metadata": {},
     "output_type": "execute_result"
    }
   ],
   "source": [
    "{}.fromkeys(\"ab\",[1,2,3,4,5])      "
   ]
  },
  {
   "cell_type": "code",
   "execution_count": 39,
   "id": "f60b973b",
   "metadata": {},
   "outputs": [
    {
     "data": {
      "text/plain": [
       "{'key1': None, 'key2': None, 'key3': None}"
      ]
     },
     "execution_count": 39,
     "metadata": {},
     "output_type": "execute_result"
    }
   ],
   "source": [
    "x = ['key1', 'key2', 'key3'] \n",
    "#x in veri tipi dict veya tuple da olabilir.\n",
    "#Bu kullanimda value ne olur?           \n",
    "# a=dict.fromkeys(x)\n",
    "# a\n",
    "\n",
    "a={}.fromkeys(x)\n",
    "a\n"
   ]
  },
  {
   "cell_type": "code",
   "execution_count": 40,
   "id": "221b1b85",
   "metadata": {},
   "outputs": [
    {
     "data": {
      "text/plain": [
       "{'key1': 3, 'key2': 3, 'key3': 3}"
      ]
     },
     "execution_count": 40,
     "metadata": {},
     "output_type": "execute_result"
    }
   ],
   "source": [
    "x = ['key1', 'key2', 'key3'] \n",
    "a={}.fromkeys(x,3) \n",
    "a"
   ]
  },
  {
   "cell_type": "code",
   "execution_count": 41,
   "id": "03bdd081",
   "metadata": {},
   "outputs": [
    {
     "data": {
      "text/plain": [
       "{'key1': [3, 4, 5], 'key2': [3, 4, 5], 'key3': [3, 4, 5]}"
      ]
     },
     "execution_count": 41,
     "metadata": {},
     "output_type": "execute_result"
    }
   ],
   "source": [
    "x = ['key1', 'key2', 'key3'] \n",
    "y=[3,4,5]  \n",
    "a={}.fromkeys(x,y) \n",
    "a"
   ]
  },
  {
   "cell_type": "code",
   "execution_count": null,
   "id": "428c92ba",
   "metadata": {},
   "outputs": [],
   "source": []
  },
  {
   "cell_type": "markdown",
   "id": "c4f8f0a2",
   "metadata": {},
   "source": [
    "###### get()"
   ]
  },
  {
   "cell_type": "code",
   "execution_count": 42,
   "id": "e3077281",
   "metadata": {},
   "outputs": [
    {
     "data": {
      "text/plain": [
       "{'ad': 'Ayse', 'soyad': 'Celik', 'yas': '25', 'sehir': 'Istanbul'}"
      ]
     },
     "execution_count": 42,
     "metadata": {},
     "output_type": "execute_result"
    }
   ],
   "source": [
    "kisi=dict(ad=\"Ayse\",soyad=\"Celik\",yas=\"25\",sehir=\"Istanbul\")\n",
    "kisi"
   ]
  },
  {
   "cell_type": "code",
   "execution_count": 43,
   "id": "c6c53381",
   "metadata": {},
   "outputs": [
    {
     "data": {
      "text/plain": [
       "'Ayse'"
      ]
     },
     "execution_count": 43,
     "metadata": {},
     "output_type": "execute_result"
    }
   ],
   "source": [
    "kisi['ad']   #Kisi dict'si icinde 'ad'a karsilik gelecek olan value nedir?Bu degeri bir dongude vs kullanmak icin ne yapmam gerekir?"
   ]
  },
  {
   "cell_type": "code",
   "execution_count": 44,
   "id": "686aa6b9",
   "metadata": {},
   "outputs": [
    {
     "ename": "KeyError",
     "evalue": "'adres'",
     "output_type": "error",
     "traceback": [
      "\u001b[1;31m---------------------------------------------------------------------------\u001b[0m",
      "\u001b[1;31mKeyError\u001b[0m                                  Traceback (most recent call last)",
      "Cell \u001b[1;32mIn[44], line 1\u001b[0m\n\u001b[1;32m----> 1\u001b[0m \u001b[43mkisi\u001b[49m\u001b[43m[\u001b[49m\u001b[38;5;124;43m'\u001b[39;49m\u001b[38;5;124;43madres\u001b[39;49m\u001b[38;5;124;43m'\u001b[39;49m\u001b[43m]\u001b[49m\n",
      "\u001b[1;31mKeyError\u001b[0m: 'adres'"
     ]
    }
   ],
   "source": [
    "kisi['adres']"
   ]
  },
  {
   "cell_type": "code",
   "execution_count": 45,
   "id": "b393f128",
   "metadata": {},
   "outputs": [],
   "source": [
    "kisi.get('adres')\n"
   ]
  },
  {
   "cell_type": "code",
   "execution_count": 46,
   "id": "997ad4db",
   "metadata": {},
   "outputs": [
    {
     "data": {
      "text/plain": [
       "'Bulamadim'"
      ]
     },
     "execution_count": 46,
     "metadata": {},
     "output_type": "execute_result"
    }
   ],
   "source": [
    "kisi.get('adres',\"Bulamadim\")\n"
   ]
  },
  {
   "cell_type": "markdown",
   "id": "a2294fbe",
   "metadata": {},
   "source": [
    "##### pop()"
   ]
  },
  {
   "cell_type": "code",
   "execution_count": 75,
   "id": "03d75ec8",
   "metadata": {},
   "outputs": [],
   "source": [
    "kisi=dict(ad=\"Ayse\",soyad=\"Celik\",yas=\"25\",sehir=\"Istanbul\")\n"
   ]
  },
  {
   "cell_type": "code",
   "execution_count": 51,
   "id": "628b15ff",
   "metadata": {},
   "outputs": [
    {
     "ename": "TypeError",
     "evalue": "pop expected at least 1 argument, got 0",
     "output_type": "error",
     "traceback": [
      "\u001b[1;31m---------------------------------------------------------------------------\u001b[0m",
      "\u001b[1;31mTypeError\u001b[0m                                 Traceback (most recent call last)",
      "Cell \u001b[1;32mIn[51], line 1\u001b[0m\n\u001b[1;32m----> 1\u001b[0m \u001b[43mkisi\u001b[49m\u001b[38;5;241;43m.\u001b[39;49m\u001b[43mpop\u001b[49m\u001b[43m(\u001b[49m\u001b[43m)\u001b[49m\n",
      "\u001b[1;31mTypeError\u001b[0m: pop expected at least 1 argument, got 0"
     ]
    }
   ],
   "source": [
    "kisi.pop()"
   ]
  },
  {
   "cell_type": "code",
   "execution_count": 77,
   "id": "eb3f9626",
   "metadata": {},
   "outputs": [
    {
     "ename": "KeyError",
     "evalue": "'ad'",
     "output_type": "error",
     "traceback": [
      "\u001b[1;31m---------------------------------------------------------------------------\u001b[0m",
      "\u001b[1;31mKeyError\u001b[0m                                  Traceback (most recent call last)",
      "Cell \u001b[1;32mIn[77], line 1\u001b[0m\n\u001b[1;32m----> 1\u001b[0m a\u001b[38;5;241m=\u001b[39m\u001b[43mkisi\u001b[49m\u001b[38;5;241;43m.\u001b[39;49m\u001b[43mpop\u001b[49m\u001b[43m(\u001b[49m\u001b[38;5;124;43m'\u001b[39;49m\u001b[38;5;124;43mad\u001b[39;49m\u001b[38;5;124;43m'\u001b[39;49m\u001b[43m)\u001b[49m\n\u001b[0;32m      2\u001b[0m a\n",
      "\u001b[1;31mKeyError\u001b[0m: 'ad'"
     ]
    }
   ],
   "source": [
    "a=kisi.pop('ad')\n",
    "a"
   ]
  },
  {
   "cell_type": "code",
   "execution_count": 53,
   "id": "f454aa1d",
   "metadata": {},
   "outputs": [
    {
     "ename": "KeyError",
     "evalue": "'adres'",
     "output_type": "error",
     "traceback": [
      "\u001b[1;31m---------------------------------------------------------------------------\u001b[0m",
      "\u001b[1;31mKeyError\u001b[0m                                  Traceback (most recent call last)",
      "Cell \u001b[1;32mIn[53], line 1\u001b[0m\n\u001b[1;32m----> 1\u001b[0m a\u001b[38;5;241m=\u001b[39m\u001b[43mkisi\u001b[49m\u001b[38;5;241;43m.\u001b[39;49m\u001b[43mpop\u001b[49m\u001b[43m(\u001b[49m\u001b[38;5;124;43m'\u001b[39;49m\u001b[38;5;124;43madres\u001b[39;49m\u001b[38;5;124;43m'\u001b[39;49m\u001b[43m)\u001b[49m\n\u001b[0;32m      2\u001b[0m a\n",
      "\u001b[1;31mKeyError\u001b[0m: 'adres'"
     ]
    }
   ],
   "source": [
    "a=kisi.pop('adres')\n",
    "a"
   ]
  },
  {
   "cell_type": "code",
   "execution_count": 54,
   "id": "879c0e3b",
   "metadata": {},
   "outputs": [
    {
     "data": {
      "text/plain": [
       "{'soyad': 'Celik', 'yas': '25', 'sehir': 'Istanbul'}"
      ]
     },
     "execution_count": 54,
     "metadata": {},
     "output_type": "execute_result"
    }
   ],
   "source": [
    "kisi"
   ]
  },
  {
   "cell_type": "code",
   "execution_count": null,
   "id": "d40a047c",
   "metadata": {},
   "outputs": [],
   "source": []
  },
  {
   "cell_type": "markdown",
   "id": "ebaac4fe",
   "metadata": {},
   "source": [
    "##### popitem()"
   ]
  },
  {
   "cell_type": "code",
   "execution_count": 78,
   "id": "697205bd",
   "metadata": {},
   "outputs": [],
   "source": [
    "kisi=dict(ad=\"Ayse\",soyad=\"Celik\",yas=\"25\",sehir=\"Istanbul\")   #### python 3.7 surumunden sonra son degerini cikarir\n"
   ]
  },
  {
   "cell_type": "code",
   "execution_count": 81,
   "id": "0400bf84",
   "metadata": {},
   "outputs": [
    {
     "data": {
      "text/plain": [
       "{'ad': 'Ayse', 'soyad': 'Celik'}"
      ]
     },
     "execution_count": 81,
     "metadata": {},
     "output_type": "execute_result"
    }
   ],
   "source": [
    "#bu yazim dogru mu?\n",
    "kisi.popitem()\n",
    "kisi"
   ]
  },
  {
   "cell_type": "code",
   "execution_count": null,
   "id": "37bd332f",
   "metadata": {},
   "outputs": [],
   "source": []
  },
  {
   "cell_type": "markdown",
   "id": "451e729d",
   "metadata": {},
   "source": [
    "#####  update()  #guncellemek"
   ]
  },
  {
   "cell_type": "code",
   "execution_count": 58,
   "id": "ccf48b37",
   "metadata": {},
   "outputs": [
    {
     "data": {
      "text/plain": [
       "{'ad': 'Ayse',\n",
       " 'soyad': 'Celik',\n",
       " 'yas': '25',\n",
       " 'sehir': 'Istanbul',\n",
       " 'meslek': 'ogretmen'}"
      ]
     },
     "execution_count": 58,
     "metadata": {},
     "output_type": "execute_result"
    }
   ],
   "source": [
    "firstDict=dict(ad=\"Ayse\",soyad=\"Celik\",yas=\"25\",sehir=\"Istanbul\")\n",
    "secondDict=dict(meslek=\"ogretmen\")\n",
    "firstDict.update(secondDict)\n",
    "firstDict"
   ]
  },
  {
   "cell_type": "code",
   "execution_count": 59,
   "id": "eb92bd5d",
   "metadata": {},
   "outputs": [
    {
     "data": {
      "text/plain": [
       "{'ad': 'Ayse',\n",
       " 'soyad': 'Celik',\n",
       " 'yas': '25',\n",
       " 'sehir': 'Istanbul',\n",
       " 'meslek': 'ogretmen'}"
      ]
     },
     "execution_count": 59,
     "metadata": {},
     "output_type": "execute_result"
    }
   ],
   "source": [
    "firstDict2=firstDict.copy()\n",
    "firstDict2.update(secondDict)\n",
    "firstDict2"
   ]
  },
  {
   "cell_type": "code",
   "execution_count": 60,
   "id": "cc9930b2",
   "metadata": {},
   "outputs": [],
   "source": [
    "d={}\n",
    "d.update({2:\"Elif\"})\n",
    "# d[2]='Elif'"
   ]
  },
  {
   "cell_type": "code",
   "execution_count": null,
   "id": "ce752ff7",
   "metadata": {},
   "outputs": [],
   "source": [
    "d"
   ]
  },
  {
   "cell_type": "code",
   "execution_count": 61,
   "id": "a9d33610",
   "metadata": {},
   "outputs": [
    {
     "data": {
      "text/plain": [
       "{(2, 3): ('Elif', 'Ayse')}"
      ]
     },
     "execution_count": 61,
     "metadata": {},
     "output_type": "execute_result"
    }
   ],
   "source": [
    "#Asagidaki gibi yazarsam cikti ne olur?\n",
    "d={}\n",
    "d[2,3]=\"Elif\",\"Ayse\"\n",
    "d"
   ]
  },
  {
   "cell_type": "code",
   "execution_count": 62,
   "id": "06450c18",
   "metadata": {},
   "outputs": [
    {
     "data": {
      "text/plain": [
       "tuple"
      ]
     },
     "execution_count": 62,
     "metadata": {},
     "output_type": "execute_result"
    }
   ],
   "source": [
    "type((2, 3))"
   ]
  },
  {
   "cell_type": "markdown",
   "id": "186126b9",
   "metadata": {},
   "source": [
    "##### keys()"
   ]
  },
  {
   "cell_type": "code",
   "execution_count": null,
   "id": "345113c5",
   "metadata": {},
   "outputs": [],
   "source": [
    "firstDict=dict(ad=\"Ayse\",soyad=\"Celik\",yas=\"25\",sehir=\"Istanbul\")\n",
    "firstDict.keys() #geriye ne dondurdu?  veri tipi ne? Bu sekilde nasil kullanabiliriz? Baska bir veri tipine cevirebilir miyiz?\n",
    "type(firstDict.keys())"
   ]
  },
  {
   "cell_type": "markdown",
   "id": "93d48b37",
   "metadata": {},
   "source": [
    "#### values()"
   ]
  },
  {
   "cell_type": "code",
   "execution_count": null,
   "id": "37428469",
   "metadata": {},
   "outputs": [],
   "source": [
    "firstDict=dict(ad=\"Ayse\",soyad=\"Celik\",yas=\"25\",sehir=\"Istanbul\")\n",
    "firstDict.values()  \n",
    "type(firstDict.values() ) "
   ]
  },
  {
   "cell_type": "markdown",
   "id": "dd2da403",
   "metadata": {},
   "source": [
    "##### items()"
   ]
  },
  {
   "cell_type": "code",
   "execution_count": null,
   "id": "9e33c01c",
   "metadata": {},
   "outputs": [],
   "source": [
    "firstDict=dict(ad=\"Ayse\",soyad=\"Celik\",yas=\"25\",sehir=\"Istanbul\")\n",
    "firstDict.items() \n",
    "type(firstDict.items() )\n"
   ]
  },
  {
   "cell_type": "markdown",
   "id": "cadbad28",
   "metadata": {},
   "source": [
    "#### setdefault()"
   ]
  },
  {
   "cell_type": "code",
   "execution_count": 63,
   "id": "ed49f48f",
   "metadata": {},
   "outputs": [
    {
     "data": {
      "text/plain": [
       "('su', 'kola')"
      ]
     },
     "execution_count": 63,
     "metadata": {},
     "output_type": "execute_result"
    }
   ],
   "source": [
    "sepet = {\"meyveler\": (\"elma\", \"armut\") }\n",
    "\n",
    "sepet.setdefault(\"içecekler\", (\"su\", \"kola\")) "
   ]
  },
  {
   "cell_type": "code",
   "execution_count": 64,
   "id": "5bff1a4b",
   "metadata": {},
   "outputs": [
    {
     "data": {
      "text/plain": [
       "{'meyveler': ('elma', 'armut'), 'içecekler': ('su', 'kola')}"
      ]
     },
     "execution_count": 64,
     "metadata": {},
     "output_type": "execute_result"
    }
   ],
   "source": [
    "sepet"
   ]
  },
  {
   "cell_type": "code",
   "execution_count": null,
   "id": "36b12064",
   "metadata": {},
   "outputs": [],
   "source": [
    "sepet.setdefault(\"içecekler\", (\"su\", \"kola\")) "
   ]
  },
  {
   "cell_type": "code",
   "execution_count": null,
   "id": "d675a008",
   "metadata": {},
   "outputs": [],
   "source": [
    "sepet"
   ]
  },
  {
   "cell_type": "markdown",
   "id": "4a214b3f",
   "metadata": {},
   "source": [
    "## Ornek sorular:"
   ]
  },
  {
   "cell_type": "markdown",
   "id": "8f1a1d4a",
   "metadata": {},
   "source": [
    "### 1-"
   ]
  },
  {
   "cell_type": "code",
   "execution_count": 66,
   "id": "435851d0",
   "metadata": {},
   "outputs": [],
   "source": [
    "keys = ['Ten', 'Twenty', 'Thirty']\n",
    "values = [10, 20, 30]\n",
    "\n",
    "# Output={'Ten': 10, 'Twenty': 20, 'Thirty': 30}    2.yol: hint: zip() function and a dict() constructor\n",
    "#1.yol, update ile yapilabilir veya for"
   ]
  },
  {
   "cell_type": "code",
   "execution_count": 71,
   "id": "d4b11132",
   "metadata": {},
   "outputs": [
    {
     "name": "stdout",
     "output_type": "stream",
     "text": [
      "{'Ten': 10, 'Twenty': 20, 'Thirty': 30}\n"
     ]
    }
   ],
   "source": [
    "# 1.yol\n",
    "keys = ['Ten', 'Twenty', 'Thirty']\n",
    "values = [10, 20, 30]\n",
    "\n",
    "my_dict = {}\n",
    "\n",
    "for i in range(len(keys)):\n",
    "    my_dict.update({keys[i]: values[i]})\n",
    "\n",
    "print(my_dict) "
   ]
  },
  {
   "cell_type": "code",
   "execution_count": 70,
   "id": "49e2ef2e",
   "metadata": {},
   "outputs": [
    {
     "data": {
      "text/plain": [
       "{'Ten': 10, 'Twenty': 20, 'Thirty': 30}"
      ]
     },
     "execution_count": 70,
     "metadata": {},
     "output_type": "execute_result"
    }
   ],
   "source": [
    "# 2.yol\n",
    "dict(zip(keys,values))"
   ]
  },
  {
   "cell_type": "markdown",
   "id": "9f37b046",
   "metadata": {},
   "source": [
    "### 2-"
   ]
  },
  {
   "cell_type": "code",
   "execution_count": 73,
   "id": "26a4d7c1",
   "metadata": {},
   "outputs": [],
   "source": [
    "#Asagidaki listeleri birlestirerek tek liste haline getiriniz.(merge etmek)\n",
    "dict1 = {'Ten': 10, 'Twenty': 20, 'Thirty': 30}\n",
    "dict2 = {'Thirty': 30, 'Fourty': 40, 'Fifty': 50}\n"
   ]
  },
  {
   "cell_type": "code",
   "execution_count": 74,
   "id": "5fb043f2",
   "metadata": {},
   "outputs": [
    {
     "data": {
      "text/plain": [
       "{'Ten': 10, 'Twenty': 20, 'Thirty': 30, 'Fourty': 40, 'Fifty': 50}"
      ]
     },
     "execution_count": 74,
     "metadata": {},
     "output_type": "execute_result"
    }
   ],
   "source": [
    "dict3=dict1.copy()\n",
    "dict3.update(dict2)\n",
    "dict3"
   ]
  },
  {
   "cell_type": "markdown",
   "id": "f0554a16",
   "metadata": {},
   "source": [
    "### 3-"
   ]
  },
  {
   "cell_type": "code",
   "execution_count": null,
   "id": "24100e3d",
   "metadata": {},
   "outputs": [],
   "source": [
    "###history degerinin karsiligi nedir?\n",
    "sampleDict = {\n",
    "    \"class\": {\n",
    "        \"student\": {\n",
    "            \"name\": \"Mike\",\n",
    "            \"marks\": {\n",
    "                \"physics\": 70,\n",
    "                \"history\": 80\n",
    "            }\n",
    "        }\n",
    "    }\n",
    "}"
   ]
  },
  {
   "cell_type": "code",
   "execution_count": null,
   "id": "6dc35fd3",
   "metadata": {},
   "outputs": [],
   "source": [
    "# ic ice konumlandirilmis dict leri anlamak\n",
    "# sampleDict['class'] = {'student': {'name': 'Mike', 'marks': {'physics': 70, 'history': 80}}}\n",
    "# sampleDict['class']['student'] = {'name': 'Mike', 'marks': {'physics': 70, 'history': 80}}\n",
    "# sampleDict['class']['student']['marks'] = {'physics': 70, 'history': 80}"
   ]
  },
  {
   "cell_type": "code",
   "execution_count": null,
   "id": "bc72e1bf",
   "metadata": {},
   "outputs": [],
   "source": []
  },
  {
   "cell_type": "markdown",
   "id": "14cab5a4",
   "metadata": {},
   "source": [
    "### 4-"
   ]
  },
  {
   "cell_type": "code",
   "execution_count": 85,
   "id": "c07dbb8c",
   "metadata": {},
   "outputs": [],
   "source": [
    "# Asagida verilen dict den keys listesinde belirtilen key degerlerini kaldiriniz.\n",
    "sample_dict = {\n",
    "    \"name\": \"Kelly\",\n",
    "    \"age\": 25,\n",
    "    \"salary\": 8000,\n",
    "    \"city\": \"New york\"\n",
    "}\n",
    "\n",
    "# kaldirmak istedigim key isimleri\n",
    "keys = [\"name\", \"salary\"]"
   ]
  },
  {
   "cell_type": "code",
   "execution_count": 86,
   "id": "e85337a7",
   "metadata": {},
   "outputs": [
    {
     "name": "stdout",
     "output_type": "stream",
     "text": [
      "{'age': 25, 'city': 'New york'}\n"
     ]
    }
   ],
   "source": [
    "for i in keys:\n",
    "    sample_dict.pop(i)\n",
    "print(sample_dict)"
   ]
  }
 ],
 "metadata": {
  "kernelspec": {
   "display_name": "base",
   "language": "python",
   "name": "python3"
  },
  "language_info": {
   "codemirror_mode": {
    "name": "ipython",
    "version": 3
   },
   "file_extension": ".py",
   "mimetype": "text/x-python",
   "name": "python",
   "nbconvert_exporter": "python",
   "pygments_lexer": "ipython3",
   "version": "3.12.3"
  }
 },
 "nbformat": 4,
 "nbformat_minor": 5
}
